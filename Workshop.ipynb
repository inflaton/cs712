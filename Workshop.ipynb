{
    "cells": [
        {
            "cell_type": "code",
            "execution_count": 1,
            "metadata": {
                "colab": {
                    "base_uri": "https://localhost:8080/"
                },
                "executionInfo": {
                    "elapsed": 550,
                    "status": "ok",
                    "timestamp": 1697435495996,
                    "user": {
                        "displayName": "EE FOOK MING _",
                        "userId": "04028093536906088165"
                    },
                    "user_tz": -480
                },
                "id": "ZBQ4ASrT4tDX",
                "outputId": "151af634-486e-4824-f7dc-b85459f300b4"
            },
            "outputs": [
                {
                    "name": "stdout",
                    "output_type": "stream",
                    "text": [
                        "/home/inflaton/code/projects/cs712\n"
                    ]
                }
            ],
            "source": [
                "!pwd"
            ]
        },
        {
            "cell_type": "code",
            "execution_count": 6,
            "metadata": {},
            "outputs": [
                {
                    "data": {
                        "text/plain": [
                            "(105984, 52776)"
                        ]
                    },
                    "execution_count": 6,
                    "metadata": {},
                    "output_type": "execute_result"
                }
            ],
            "source": [
                "2944*36, 1466*36"
            ]
        },
        {
            "cell_type": "code",
            "execution_count": 8,
            "metadata": {
                "colab": {
                    "base_uri": "https://localhost:8080/"
                },
                "executionInfo": {
                    "elapsed": 807,
                    "status": "ok",
                    "timestamp": 1697436834350,
                    "user": {
                        "displayName": "EE FOOK MING _",
                        "userId": "04028093536906088165"
                    },
                    "user_tz": -480
                },
                "id": "aUUqcxO9479j",
                "outputId": "8e583cd1-3686-4ce0-fdbe-9b3e648b0a0d"
            },
            "outputs": [
                {
                    "name": "stdout",
                    "output_type": "stream",
                    "text": [
                        "105985\n",
                        "52776\n"
                    ]
                }
            ],
            "source": [
                "! find \"data/train\" -type f | wc -l\n",
                "! find \"data/validation\" -type f | wc -l"
            ]
        },
        {
            "cell_type": "code",
            "execution_count": 7,
            "metadata": {
                "colab": {
                    "base_uri": "https://localhost:8080/"
                },
                "executionInfo": {
                    "elapsed": 131030,
                    "status": "ok",
                    "timestamp": 1697436811948,
                    "user": {
                        "displayName": "EE FOOK MING _",
                        "userId": "04028093536906088165"
                    },
                    "user_tz": -480
                },
                "id": "4AISeLBD9biq",
                "outputId": "8e40b77f-1e00-458d-ee5b-6cb0701ea3a0"
            },
            "outputs": [
                {
                    "name": "stdout",
                    "output_type": "stream",
                    "text": [
                        "device:  cuda\n",
                        "data_dir:  data/train\n",
                        "total_data_points:  2944\n",
                        "data_dir:  data/validation\n",
                        "total_data_points:  1466\n",
                        "CPU times: user 25.8 s, sys: 10.9 s, total: 36.7 s\n",
                        "Wall time: 34min 34s\n"
                    ]
                }
            ],
            "source": [
                "%%time\n",
                "!python code/workshop/preprocess.py"
            ]
        },
        {
            "cell_type": "code",
            "execution_count": 4,
            "metadata": {
                "colab": {
                    "base_uri": "https://localhost:8080/"
                },
                "executionInfo": {
                    "elapsed": 37271,
                    "status": "ok",
                    "timestamp": 1697436917628,
                    "user": {
                        "displayName": "EE FOOK MING _",
                        "userId": "04028093536906088165"
                    },
                    "user_tz": -480
                },
                "id": "LrfFdJf3MNIb",
                "outputId": "d702b68c-e3a6-44af-af55-0684d8a73fc8"
            },
            "outputs": [
                {
                    "name": "stdout",
                    "output_type": "stream",
                    "text": [
                        "cuda\n",
                        "classes:  50 batch 32\n",
                        "Epoch 1, Loss: 3.9117, Accuracy: 2.58%\n",
                        "Epoch 2, Loss: 3.8991, Accuracy: 10.73%\n",
                        "Epoch 3, Loss: 3.8437, Accuracy: 29.72%\n",
                        "Epoch 4, Loss: 3.7525, Accuracy: 42.90%\n",
                        "Epoch 5, Loss: 3.6406, Accuracy: 52.48%\n",
                        "Epoch 6, Loss: 3.5403, Accuracy: 59.71%\n",
                        "Epoch 7, Loss: 3.4548, Accuracy: 65.76%\n",
                        "Epoch 8, Loss: 3.3848, Accuracy: 71.64%\n",
                        "Epoch 9, Loss: 3.3271, Accuracy: 77.31%\n",
                        "Epoch 10, Loss: 3.2754, Accuracy: 81.42%\n",
                        "Epoch 11, Loss: 3.2326, Accuracy: 84.10%\n",
                        "Epoch 12, Loss: 3.1981, Accuracy: 85.97%\n",
                        "Epoch 13, Loss: 3.1709, Accuracy: 87.40%\n",
                        "Epoch 14, Loss: 3.1507, Accuracy: 88.49%\n",
                        "Epoch 15, Loss: 3.1305, Accuracy: 89.44%\n",
                        "Epoch 16, Loss: 3.1151, Accuracy: 90.15%\n",
                        "Epoch 17, Loss: 3.0996, Accuracy: 90.83%\n",
                        "Epoch 18, Loss: 3.0883, Accuracy: 91.44%\n",
                        "Epoch 19, Loss: 3.0778, Accuracy: 92.09%\n",
                        "Epoch 20, Loss: 3.0702, Accuracy: 92.29%\n",
                        "Epoch 21, Loss: 3.0622, Accuracy: 92.56%\n",
                        "Epoch 22, Loss: 3.0541, Accuracy: 92.90%\n",
                        "Epoch 23, Loss: 3.0469, Accuracy: 93.34%\n",
                        "Epoch 24, Loss: 3.0409, Accuracy: 93.68%\n",
                        "Epoch 25, Loss: 3.0356, Accuracy: 93.95%\n",
                        "Epoch 26, Loss: 3.0315, Accuracy: 94.09%\n",
                        "Epoch 27, Loss: 3.0278, Accuracy: 94.19%\n",
                        "Epoch 28, Loss: 3.0253, Accuracy: 94.43%\n",
                        "Epoch 29, Loss: 3.0213, Accuracy: 94.53%\n",
                        "Epoch 30, Loss: 3.0188, Accuracy: 94.60%\n",
                        "Epoch 31, Loss: 3.0176, Accuracy: 94.80%\n",
                        "Epoch 32, Loss: 3.0182, Accuracy: 94.87%\n",
                        "Epoch 33, Loss: 3.0181, Accuracy: 95.01%\n",
                        "Epoch 34, Loss: 3.0149, Accuracy: 94.97%\n",
                        "Epoch 35, Loss: 3.0109, Accuracy: 95.21%\n",
                        "Epoch 36, Loss: 3.0075, Accuracy: 95.41%\n",
                        "Epoch 37, Loss: 3.0044, Accuracy: 95.41%\n",
                        "Epoch 38, Loss: 3.0022, Accuracy: 95.52%\n",
                        "Epoch 39, Loss: 3.0005, Accuracy: 95.58%\n",
                        "Epoch 40, Loss: 2.9987, Accuracy: 95.65%\n",
                        "Epoch 41, Loss: 2.9975, Accuracy: 95.65%\n",
                        "Epoch 42, Loss: 2.9966, Accuracy: 95.69%\n",
                        "Epoch 43, Loss: 2.9963, Accuracy: 95.75%\n",
                        "Epoch 44, Loss: 2.9962, Accuracy: 95.82%\n",
                        "Epoch 45, Loss: 2.9949, Accuracy: 95.96%\n",
                        "Epoch 46, Loss: 2.9947, Accuracy: 96.06%\n",
                        "Epoch 47, Loss: 2.9943, Accuracy: 95.96%\n",
                        "Epoch 48, Loss: 2.9924, Accuracy: 96.13%\n",
                        "Epoch 49, Loss: 2.9920, Accuracy: 96.13%\n",
                        "Epoch 50, Loss: 2.9910, Accuracy: 96.13%\n",
                        "CPU times: user 1.58 s, sys: 339 ms, total: 1.92 s\n",
                        "Wall time: 1min 44s\n"
                    ]
                }
            ],
            "source": [
                "%%time\n",
                "!python code/workshop/train.py --epochs=50 --batch=32"
            ]
        },
        {
            "cell_type": "code",
            "execution_count": 5,
            "metadata": {},
            "outputs": [
                {
                    "name": "stdout",
                    "output_type": "stream",
                    "text": [
                        "cuda\n",
                        "classes:  50 batch 64\n",
                        "Epoch 1, Loss: 3.9113, Accuracy: 2.62%\n",
                        "Epoch 2, Loss: 3.8962, Accuracy: 11.01%\n",
                        "Epoch 3, Loss: 3.8243, Accuracy: 32.24%\n",
                        "Epoch 4, Loss: 3.6989, Accuracy: 52.00%\n",
                        "Epoch 5, Loss: 3.5652, Accuracy: 64.16%\n",
                        "Epoch 6, Loss: 3.4481, Accuracy: 72.86%\n",
                        "Epoch 7, Loss: 3.3598, Accuracy: 78.70%\n",
                        "Epoch 8, Loss: 3.2904, Accuracy: 83.63%\n",
                        "Epoch 9, Loss: 3.2329, Accuracy: 87.50%\n",
                        "Epoch 10, Loss: 3.1835, Accuracy: 89.67%\n",
                        "Epoch 11, Loss: 3.1493, Accuracy: 91.41%\n",
                        "Epoch 12, Loss: 3.1215, Accuracy: 92.73%\n",
                        "Epoch 13, Loss: 3.0989, Accuracy: 93.95%\n",
                        "Epoch 14, Loss: 3.0793, Accuracy: 94.84%\n",
                        "Epoch 15, Loss: 3.0665, Accuracy: 95.38%\n",
                        "Epoch 16, Loss: 3.0551, Accuracy: 95.99%\n",
                        "Epoch 17, Loss: 3.0446, Accuracy: 96.33%\n",
                        "Epoch 18, Loss: 3.0360, Accuracy: 96.81%\n",
                        "Epoch 19, Loss: 3.0286, Accuracy: 97.01%\n",
                        "Epoch 20, Loss: 3.0220, Accuracy: 97.25%\n",
                        "Epoch 21, Loss: 3.0163, Accuracy: 97.55%\n",
                        "Epoch 22, Loss: 3.0100, Accuracy: 97.76%\n",
                        "Epoch 23, Loss: 3.0059, Accuracy: 97.83%\n",
                        "Epoch 24, Loss: 3.0026, Accuracy: 98.03%\n",
                        "Epoch 25, Loss: 2.9992, Accuracy: 98.17%\n",
                        "Epoch 26, Loss: 2.9957, Accuracy: 98.27%\n",
                        "Epoch 27, Loss: 2.9924, Accuracy: 98.27%\n",
                        "Epoch 28, Loss: 2.9898, Accuracy: 98.40%\n",
                        "Epoch 29, Loss: 2.9873, Accuracy: 98.47%\n",
                        "Epoch 30, Loss: 2.9853, Accuracy: 98.54%\n",
                        "Epoch 31, Loss: 2.9840, Accuracy: 98.54%\n",
                        "Epoch 32, Loss: 2.9818, Accuracy: 98.57%\n",
                        "Epoch 33, Loss: 2.9801, Accuracy: 98.57%\n",
                        "Epoch 34, Loss: 2.9788, Accuracy: 98.61%\n",
                        "Epoch 35, Loss: 2.9775, Accuracy: 98.64%\n",
                        "Epoch 36, Loss: 2.9764, Accuracy: 98.68%\n",
                        "Epoch 37, Loss: 2.9755, Accuracy: 98.68%\n",
                        "Epoch 38, Loss: 2.9747, Accuracy: 98.74%\n",
                        "Epoch 39, Loss: 2.9739, Accuracy: 98.78%\n",
                        "Epoch 40, Loss: 2.9732, Accuracy: 98.81%\n",
                        "Epoch 41, Loss: 2.9720, Accuracy: 98.81%\n",
                        "Epoch 42, Loss: 2.9710, Accuracy: 98.85%\n",
                        "Epoch 43, Loss: 2.9703, Accuracy: 98.88%\n",
                        "Epoch 44, Loss: 2.9698, Accuracy: 98.88%\n",
                        "Epoch 45, Loss: 2.9695, Accuracy: 98.88%\n",
                        "Epoch 46, Loss: 2.9689, Accuracy: 98.88%\n",
                        "Epoch 47, Loss: 2.9683, Accuracy: 98.88%\n",
                        "Epoch 48, Loss: 2.9675, Accuracy: 98.91%\n",
                        "Epoch 49, Loss: 2.9669, Accuracy: 98.95%\n",
                        "Epoch 50, Loss: 2.9662, Accuracy: 99.05%\n",
                        "Epoch 51, Loss: 2.9654, Accuracy: 99.08%\n",
                        "Epoch 52, Loss: 2.9656, Accuracy: 99.08%\n",
                        "Epoch 53, Loss: 2.9654, Accuracy: 99.08%\n",
                        "Epoch 54, Loss: 2.9646, Accuracy: 99.12%\n",
                        "Epoch 55, Loss: 2.9642, Accuracy: 99.08%\n",
                        "Epoch 56, Loss: 2.9635, Accuracy: 99.15%\n",
                        "Epoch 57, Loss: 2.9630, Accuracy: 99.15%\n",
                        "Epoch 58, Loss: 2.9620, Accuracy: 99.18%\n",
                        "Epoch 59, Loss: 2.9624, Accuracy: 99.12%\n",
                        "Epoch 60, Loss: 2.9620, Accuracy: 99.12%\n",
                        "Epoch 61, Loss: 2.9618, Accuracy: 99.22%\n",
                        "Epoch 62, Loss: 2.9606, Accuracy: 99.25%\n",
                        "Epoch 63, Loss: 2.9605, Accuracy: 99.29%\n",
                        "Epoch 64, Loss: 2.9604, Accuracy: 99.29%\n",
                        "Epoch 65, Loss: 2.9604, Accuracy: 99.32%\n",
                        "Epoch 66, Loss: 2.9600, Accuracy: 99.39%\n",
                        "Epoch 67, Loss: 2.9594, Accuracy: 99.39%\n",
                        "Epoch 68, Loss: 2.9588, Accuracy: 99.42%\n",
                        "Epoch 69, Loss: 2.9586, Accuracy: 99.42%\n",
                        "Epoch 70, Loss: 2.9585, Accuracy: 99.42%\n",
                        "Epoch 71, Loss: 2.9582, Accuracy: 99.42%\n",
                        "Epoch 72, Loss: 2.9579, Accuracy: 99.46%\n",
                        "Epoch 73, Loss: 2.9572, Accuracy: 99.49%\n",
                        "Epoch 74, Loss: 2.9569, Accuracy: 99.49%\n",
                        "Epoch 75, Loss: 2.9571, Accuracy: 99.49%\n",
                        "Epoch 76, Loss: 2.9564, Accuracy: 99.56%\n",
                        "Epoch 77, Loss: 2.9562, Accuracy: 99.52%\n",
                        "Epoch 78, Loss: 2.9562, Accuracy: 99.52%\n",
                        "Epoch 79, Loss: 2.9568, Accuracy: 99.66%\n",
                        "Epoch 80, Loss: 2.9599, Accuracy: 99.63%\n",
                        "Epoch 81, Loss: 2.9659, Accuracy: 99.69%\n",
                        "Epoch 82, Loss: 2.9867, Accuracy: 99.52%\n",
                        "Epoch 83, Loss: 3.0198, Accuracy: 98.91%\n",
                        "Epoch 84, Loss: 3.0086, Accuracy: 99.22%\n",
                        "Epoch 85, Loss: 2.9726, Accuracy: 99.59%\n",
                        "Epoch 86, Loss: 2.9570, Accuracy: 99.76%\n",
                        "Epoch 87, Loss: 2.9531, Accuracy: 99.76%\n",
                        "Epoch 88, Loss: 2.9521, Accuracy: 99.80%\n",
                        "Epoch 89, Loss: 2.9516, Accuracy: 99.80%\n",
                        "Epoch 90, Loss: 2.9513, Accuracy: 99.80%\n",
                        "Epoch 91, Loss: 2.9511, Accuracy: 99.80%\n",
                        "Epoch 92, Loss: 2.9509, Accuracy: 99.80%\n",
                        "Epoch 93, Loss: 2.9508, Accuracy: 99.80%\n",
                        "Epoch 94, Loss: 2.9507, Accuracy: 99.80%\n",
                        "Epoch 95, Loss: 2.9506, Accuracy: 99.80%\n",
                        "Epoch 96, Loss: 2.9505, Accuracy: 99.80%\n",
                        "Epoch 97, Loss: 2.9504, Accuracy: 99.80%\n",
                        "Epoch 98, Loss: 2.9503, Accuracy: 99.80%\n",
                        "Epoch 99, Loss: 2.9502, Accuracy: 99.80%\n",
                        "Epoch 100, Loss: 2.9501, Accuracy: 99.80%\n",
                        "CPU times: user 1.81 s, sys: 636 ms, total: 2.44 s\n",
                        "Wall time: 1min 58s\n"
                    ]
                }
            ],
            "source": [
                "%%time\n",
                "!python code/workshop/train.py --epochs=100 --batch=64"
            ]
        }
    ],
    "metadata": {
        "accelerator": "GPU",
        "colab": {
            "gpuType": "T4",
            "provenance": []
        },
        "kernelspec": {
            "display_name": "Python 3",
            "name": "python3"
        },
        "language_info": {
            "codemirror_mode": {
                "name": "ipython",
                "version": 3
            },
            "file_extension": ".py",
            "mimetype": "text/x-python",
            "name": "python",
            "nbconvert_exporter": "python",
            "pygments_lexer": "ipython3",
            "version": "3.11.4"
        }
    },
    "nbformat": 4,
    "nbformat_minor": 0
}
