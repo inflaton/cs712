{
    "cells": [
        {
            "cell_type": "code",
            "execution_count": 1,
            "metadata": {
                "colab": {
                    "base_uri": "https://localhost:8080/"
                },
                "executionInfo": {
                    "elapsed": 550,
                    "status": "ok",
                    "timestamp": 1697435495996,
                    "user": {
                        "displayName": "EE FOOK MING _",
                        "userId": "04028093536906088165"
                    },
                    "user_tz": -480
                },
                "id": "ZBQ4ASrT4tDX",
                "outputId": "151af634-486e-4824-f7dc-b85459f300b4"
            },
            "outputs": [
                {
                    "name": "stdout",
                    "output_type": "stream",
                    "text": [
                        "/mnt/c/Users/dongh/OneDrive - Singapore Management University/code/courses/02_CS712-G1-Machine Learning/cs712\n"
                    ]
                }
            ],
            "source": [
                "!pwd"
            ]
        },
        {
            "cell_type": "code",
            "execution_count": 2,
            "metadata": {},
            "outputs": [
                {
                    "data": {
                        "text/plain": [
                            "(105984, 52776)"
                        ]
                    },
                    "execution_count": 2,
                    "metadata": {},
                    "output_type": "execute_result"
                }
            ],
            "source": [
                "2944*36, 1466*36"
            ]
        },
        {
            "cell_type": "code",
            "execution_count": 4,
            "metadata": {
                "colab": {
                    "base_uri": "https://localhost:8080/"
                },
                "executionInfo": {
                    "elapsed": 807,
                    "status": "ok",
                    "timestamp": 1697436834350,
                    "user": {
                        "displayName": "EE FOOK MING _",
                        "userId": "04028093536906088165"
                    },
                    "user_tz": -480
                },
                "id": "aUUqcxO9479j",
                "outputId": "8e583cd1-3686-4ce0-fdbe-9b3e648b0a0d"
            },
            "outputs": [
                {
                    "name": "stdout",
                    "output_type": "stream",
                    "text": [
                        "105985\n",
                        "52776\n"
                    ]
                }
            ],
            "source": [
                "! find \"data/train\" -type f | wc -l\n",
                "! find \"data/validation\" -type f | wc -l"
            ]
        },
        {
            "cell_type": "code",
            "execution_count": 7,
            "metadata": {
                "colab": {
                    "base_uri": "https://localhost:8080/"
                },
                "executionInfo": {
                    "elapsed": 131030,
                    "status": "ok",
                    "timestamp": 1697436811948,
                    "user": {
                        "displayName": "EE FOOK MING _",
                        "userId": "04028093536906088165"
                    },
                    "user_tz": -480
                },
                "id": "4AISeLBD9biq",
                "outputId": "8e40b77f-1e00-458d-ee5b-6cb0701ea3a0"
            },
            "outputs": [
                {
                    "name": "stdout",
                    "output_type": "stream",
                    "text": [
                        "device:  cuda\n",
                        "data_dir:  data/train\n",
                        "total_data_points:  2944\n",
                        "data_dir:  data/validation\n",
                        "total_data_points:  1466\n",
                        "CPU times: user 25.8 s, sys: 10.9 s, total: 36.7 s\n",
                        "Wall time: 34min 34s\n"
                    ]
                }
            ],
            "source": [
                "%%time\n",
                "!python preprocess.py"
            ]
        },
        {
            "cell_type": "code",
            "execution_count": 21,
            "metadata": {
                "colab": {
                    "base_uri": "https://localhost:8080/"
                },
                "executionInfo": {
                    "elapsed": 37271,
                    "status": "ok",
                    "timestamp": 1697436917628,
                    "user": {
                        "displayName": "EE FOOK MING _",
                        "userId": "04028093536906088165"
                    },
                    "user_tz": -480
                },
                "id": "LrfFdJf3MNIb",
                "outputId": "d702b68c-e3a6-44af-af55-0684d8a73fc8"
            },
            "outputs": [
                {
                    "name": "stdout",
                    "output_type": "stream",
                    "text": [
                        "cuda\n",
                        "classes:  50 batch 32\n",
                        "Epoch 1, Loss: 3.9114, Accuracy: 2.38%\n",
                        "Epoch 2, Loss: 3.8952, Accuracy: 12.53%\n",
                        "Epoch 3, Loss: 3.8308, Accuracy: 36.01%\n",
                        "Epoch 4, Loss: 3.7276, Accuracy: 53.06%\n",
                        "Epoch 5, Loss: 3.6046, Accuracy: 62.13%\n",
                        "Epoch 6, Loss: 3.4940, Accuracy: 67.66%\n",
                        "Epoch 7, Loss: 3.4049, Accuracy: 72.66%\n",
                        "Epoch 8, Loss: 3.3327, Accuracy: 76.80%\n",
                        "Epoch 9, Loss: 3.2788, Accuracy: 80.60%\n",
                        "Epoch 10, Loss: 3.2389, Accuracy: 83.49%\n",
                        "Epoch 11, Loss: 3.2066, Accuracy: 85.70%\n",
                        "Epoch 12, Loss: 3.1820, Accuracy: 87.50%\n",
                        "Epoch 13, Loss: 3.1566, Accuracy: 89.33%\n",
                        "Epoch 14, Loss: 3.1347, Accuracy: 90.32%\n",
                        "Epoch 15, Loss: 3.1176, Accuracy: 91.54%\n",
                        "Epoch 16, Loss: 3.1007, Accuracy: 92.05%\n",
                        "Epoch 17, Loss: 3.0876, Accuracy: 92.32%\n",
                        "Epoch 18, Loss: 3.0762, Accuracy: 92.76%\n",
                        "Epoch 19, Loss: 3.0674, Accuracy: 93.10%\n",
                        "Epoch 20, Loss: 3.0592, Accuracy: 93.17%\n",
                        "Epoch 21, Loss: 3.0508, Accuracy: 93.58%\n",
                        "Epoch 22, Loss: 3.0437, Accuracy: 93.82%\n",
                        "Epoch 23, Loss: 3.0381, Accuracy: 94.12%\n",
                        "Epoch 24, Loss: 3.0324, Accuracy: 94.33%\n",
                        "Epoch 25, Loss: 3.0279, Accuracy: 94.63%\n",
                        "Epoch 26, Loss: 3.0241, Accuracy: 94.74%\n",
                        "Epoch 27, Loss: 3.0217, Accuracy: 94.90%\n",
                        "Epoch 28, Loss: 3.0182, Accuracy: 95.21%\n",
                        "Epoch 29, Loss: 3.0154, Accuracy: 95.35%\n",
                        "Epoch 30, Loss: 3.0113, Accuracy: 95.58%\n",
                        "Epoch 31, Loss: 3.0088, Accuracy: 95.79%\n",
                        "Epoch 32, Loss: 3.0070, Accuracy: 95.92%\n",
                        "Epoch 33, Loss: 3.0033, Accuracy: 96.06%\n",
                        "Epoch 34, Loss: 3.0017, Accuracy: 96.23%\n",
                        "Epoch 35, Loss: 3.0001, Accuracy: 96.33%\n",
                        "Epoch 36, Loss: 2.9971, Accuracy: 96.43%\n",
                        "Epoch 37, Loss: 2.9946, Accuracy: 96.50%\n",
                        "Epoch 38, Loss: 2.9918, Accuracy: 96.60%\n",
                        "Epoch 39, Loss: 2.9905, Accuracy: 96.71%\n",
                        "Epoch 40, Loss: 2.9896, Accuracy: 96.77%\n",
                        "Epoch 41, Loss: 2.9881, Accuracy: 96.84%\n",
                        "Epoch 42, Loss: 2.9875, Accuracy: 96.84%\n",
                        "Epoch 43, Loss: 2.9866, Accuracy: 96.94%\n",
                        "Epoch 44, Loss: 2.9866, Accuracy: 96.91%\n",
                        "Epoch 45, Loss: 2.9855, Accuracy: 96.98%\n",
                        "Epoch 46, Loss: 2.9843, Accuracy: 96.98%\n",
                        "Epoch 47, Loss: 2.9831, Accuracy: 97.04%\n",
                        "Epoch 48, Loss: 2.9828, Accuracy: 97.04%\n",
                        "Epoch 49, Loss: 2.9862, Accuracy: 97.08%\n",
                        "Epoch 50, Loss: 2.9869, Accuracy: 97.11%\n",
                        "CPU times: user 1.57 s, sys: 463 ms, total: 2.03 s\n",
                        "Wall time: 1min 49s\n"
                    ]
                }
            ],
            "source": [
                "%%time\n",
                "!python train.py --epochs=50 --batch=32"
            ]
        },
        {
            "cell_type": "code",
            "execution_count": 22,
            "metadata": {},
            "outputs": [
                {
                    "name": "stdout",
                    "output_type": "stream",
                    "text": [
                        "cuda\n",
                        "classes:  50 batch 64\n",
                        "Epoch 1, Loss: 3.9110, Accuracy: 2.79%\n",
                        "Epoch 2, Loss: 3.8791, Accuracy: 17.66%\n",
                        "Epoch 3, Loss: 3.7669, Accuracy: 43.78%\n",
                        "Epoch 4, Loss: 3.6249, Accuracy: 58.97%\n",
                        "Epoch 5, Loss: 3.4935, Accuracy: 68.99%\n",
                        "Epoch 6, Loss: 3.3859, Accuracy: 76.60%\n",
                        "Epoch 7, Loss: 3.3013, Accuracy: 82.47%\n",
                        "Epoch 8, Loss: 3.2330, Accuracy: 86.58%\n",
                        "Epoch 9, Loss: 3.1822, Accuracy: 89.13%\n",
                        "Epoch 10, Loss: 3.1448, Accuracy: 91.10%\n",
                        "Epoch 11, Loss: 3.1170, Accuracy: 92.53%\n",
                        "Epoch 12, Loss: 3.0957, Accuracy: 93.85%\n",
                        "Epoch 13, Loss: 3.0778, Accuracy: 94.80%\n",
                        "Epoch 14, Loss: 3.0645, Accuracy: 95.14%\n",
                        "Epoch 15, Loss: 3.0538, Accuracy: 95.45%\n",
                        "Epoch 16, Loss: 3.0447, Accuracy: 96.03%\n",
                        "Epoch 17, Loss: 3.0367, Accuracy: 96.26%\n",
                        "Epoch 18, Loss: 3.0292, Accuracy: 96.60%\n",
                        "Epoch 19, Loss: 3.0228, Accuracy: 96.94%\n",
                        "Epoch 20, Loss: 3.0174, Accuracy: 97.35%\n",
                        "Epoch 21, Loss: 3.0122, Accuracy: 97.55%\n",
                        "Epoch 22, Loss: 3.0068, Accuracy: 97.69%\n",
                        "Epoch 23, Loss: 3.0032, Accuracy: 97.83%\n",
                        "Epoch 24, Loss: 2.9997, Accuracy: 97.83%\n",
                        "Epoch 25, Loss: 2.9967, Accuracy: 97.96%\n",
                        "Epoch 26, Loss: 2.9935, Accuracy: 98.13%\n",
                        "Epoch 27, Loss: 2.9900, Accuracy: 98.30%\n",
                        "Epoch 28, Loss: 2.9882, Accuracy: 98.34%\n",
                        "Epoch 29, Loss: 2.9867, Accuracy: 98.37%\n",
                        "Epoch 30, Loss: 2.9850, Accuracy: 98.44%\n",
                        "Epoch 31, Loss: 2.9831, Accuracy: 98.47%\n",
                        "Epoch 32, Loss: 2.9810, Accuracy: 98.54%\n",
                        "Epoch 33, Loss: 2.9796, Accuracy: 98.57%\n",
                        "Epoch 34, Loss: 2.9785, Accuracy: 98.61%\n",
                        "Epoch 35, Loss: 2.9769, Accuracy: 98.61%\n",
                        "Epoch 36, Loss: 2.9759, Accuracy: 98.64%\n",
                        "Epoch 37, Loss: 2.9752, Accuracy: 98.64%\n",
                        "Epoch 38, Loss: 2.9745, Accuracy: 98.64%\n",
                        "Epoch 39, Loss: 2.9738, Accuracy: 98.64%\n",
                        "Epoch 40, Loss: 2.9731, Accuracy: 98.64%\n",
                        "Epoch 41, Loss: 2.9726, Accuracy: 98.68%\n",
                        "Epoch 42, Loss: 2.9718, Accuracy: 98.74%\n",
                        "Epoch 43, Loss: 2.9720, Accuracy: 98.74%\n",
                        "Epoch 44, Loss: 2.9706, Accuracy: 98.74%\n",
                        "Epoch 45, Loss: 2.9699, Accuracy: 98.78%\n",
                        "Epoch 46, Loss: 2.9695, Accuracy: 98.81%\n",
                        "Epoch 47, Loss: 2.9697, Accuracy: 98.85%\n",
                        "Epoch 48, Loss: 2.9688, Accuracy: 98.81%\n",
                        "Epoch 49, Loss: 2.9676, Accuracy: 98.88%\n",
                        "Epoch 50, Loss: 2.9669, Accuracy: 98.91%\n",
                        "Epoch 51, Loss: 2.9664, Accuracy: 98.98%\n",
                        "Epoch 52, Loss: 2.9650, Accuracy: 99.01%\n",
                        "Epoch 53, Loss: 2.9644, Accuracy: 99.01%\n",
                        "Epoch 54, Loss: 2.9640, Accuracy: 99.01%\n",
                        "Epoch 55, Loss: 2.9636, Accuracy: 99.05%\n",
                        "Epoch 56, Loss: 2.9632, Accuracy: 99.05%\n",
                        "Epoch 57, Loss: 2.9629, Accuracy: 99.08%\n",
                        "Epoch 58, Loss: 2.9627, Accuracy: 99.08%\n",
                        "Epoch 59, Loss: 2.9622, Accuracy: 99.08%\n",
                        "Epoch 60, Loss: 2.9619, Accuracy: 99.08%\n",
                        "Epoch 61, Loss: 2.9617, Accuracy: 99.08%\n",
                        "Epoch 62, Loss: 2.9609, Accuracy: 99.15%\n",
                        "Epoch 63, Loss: 2.9614, Accuracy: 99.08%\n",
                        "Epoch 64, Loss: 2.9607, Accuracy: 99.15%\n",
                        "Epoch 65, Loss: 2.9599, Accuracy: 99.22%\n",
                        "Epoch 66, Loss: 2.9604, Accuracy: 99.22%\n",
                        "Epoch 67, Loss: 2.9601, Accuracy: 99.29%\n",
                        "Epoch 68, Loss: 2.9602, Accuracy: 99.35%\n",
                        "Epoch 69, Loss: 2.9601, Accuracy: 99.35%\n",
                        "Epoch 70, Loss: 2.9604, Accuracy: 99.35%\n",
                        "Epoch 71, Loss: 2.9610, Accuracy: 99.35%\n",
                        "Epoch 72, Loss: 2.9621, Accuracy: 99.32%\n",
                        "Epoch 73, Loss: 2.9647, Accuracy: 99.32%\n",
                        "Epoch 74, Loss: 2.9673, Accuracy: 99.29%\n",
                        "Epoch 75, Loss: 2.9678, Accuracy: 99.39%\n",
                        "Epoch 76, Loss: 2.9698, Accuracy: 99.25%\n",
                        "Epoch 77, Loss: 2.9683, Accuracy: 99.39%\n",
                        "Epoch 78, Loss: 2.9637, Accuracy: 99.42%\n",
                        "Epoch 79, Loss: 2.9584, Accuracy: 99.46%\n",
                        "Epoch 80, Loss: 2.9567, Accuracy: 99.49%\n",
                        "Epoch 81, Loss: 2.9554, Accuracy: 99.49%\n",
                        "Epoch 82, Loss: 2.9547, Accuracy: 99.49%\n",
                        "Epoch 83, Loss: 2.9541, Accuracy: 99.52%\n",
                        "Epoch 84, Loss: 2.9539, Accuracy: 99.52%\n",
                        "Epoch 85, Loss: 2.9538, Accuracy: 99.52%\n",
                        "Epoch 86, Loss: 2.9537, Accuracy: 99.52%\n",
                        "Epoch 87, Loss: 2.9536, Accuracy: 99.52%\n",
                        "Epoch 88, Loss: 2.9535, Accuracy: 99.52%\n",
                        "Epoch 89, Loss: 2.9534, Accuracy: 99.52%\n",
                        "Epoch 90, Loss: 2.9533, Accuracy: 99.52%\n",
                        "Epoch 91, Loss: 2.9533, Accuracy: 99.52%\n",
                        "Epoch 92, Loss: 2.9532, Accuracy: 99.52%\n",
                        "Epoch 93, Loss: 2.9531, Accuracy: 99.52%\n",
                        "Epoch 94, Loss: 2.9530, Accuracy: 99.52%\n",
                        "Epoch 95, Loss: 2.9530, Accuracy: 99.52%\n",
                        "Epoch 96, Loss: 2.9529, Accuracy: 99.52%\n",
                        "Epoch 97, Loss: 2.9529, Accuracy: 99.52%\n",
                        "Epoch 98, Loss: 2.9528, Accuracy: 99.52%\n",
                        "Epoch 99, Loss: 2.9528, Accuracy: 99.52%\n",
                        "Epoch 100, Loss: 2.9527, Accuracy: 99.52%\n",
                        "CPU times: user 1.61 s, sys: 548 ms, total: 2.16 s\n",
                        "Wall time: 1min 57s\n"
                    ]
                }
            ],
            "source": [
                "%%time\n",
                "!python train.py --epochs=100 --batch=64"
            ]
        }
    ],
    "metadata": {
        "accelerator": "GPU",
        "colab": {
            "gpuType": "T4",
            "provenance": []
        },
        "kernelspec": {
            "display_name": "Python 3",
            "name": "python3"
        },
        "language_info": {
            "codemirror_mode": {
                "name": "ipython",
                "version": 3
            },
            "file_extension": ".py",
            "mimetype": "text/x-python",
            "name": "python",
            "nbconvert_exporter": "python",
            "pygments_lexer": "ipython3",
            "version": "3.11.4"
        }
    },
    "nbformat": 4,
    "nbformat_minor": 0
}
