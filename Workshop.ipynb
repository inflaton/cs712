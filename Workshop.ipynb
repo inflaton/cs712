{
    "cells": [
        {
            "cell_type": "code",
            "execution_count": 1,
            "metadata": {
                "colab": {
                    "base_uri": "https://localhost:8080/"
                },
                "executionInfo": {
                    "elapsed": 550,
                    "status": "ok",
                    "timestamp": 1697435495996,
                    "user": {
                        "displayName": "EE FOOK MING _",
                        "userId": "04028093536906088165"
                    },
                    "user_tz": -480
                },
                "id": "ZBQ4ASrT4tDX",
                "outputId": "151af634-486e-4824-f7dc-b85459f300b4"
            },
            "outputs": [
                {
                    "name": "stdout",
                    "output_type": "stream",
                    "text": [
                        "/mnt/c/Users/dongh/OneDrive - Singapore Management University/code/courses/02_CS712-G1-Machine Learning/cs712\n"
                    ]
                }
            ],
            "source": [
                "!pwd"
            ]
        },
        {
            "cell_type": "code",
            "execution_count": 2,
            "metadata": {},
            "outputs": [
                {
                    "data": {
                        "text/plain": [
                            "(105984, 52776)"
                        ]
                    },
                    "execution_count": 2,
                    "metadata": {},
                    "output_type": "execute_result"
                }
            ],
            "source": [
                "2944*36, 1466*36"
            ]
        },
        {
            "cell_type": "code",
            "execution_count": 4,
            "metadata": {
                "colab": {
                    "base_uri": "https://localhost:8080/"
                },
                "executionInfo": {
                    "elapsed": 807,
                    "status": "ok",
                    "timestamp": 1697436834350,
                    "user": {
                        "displayName": "EE FOOK MING _",
                        "userId": "04028093536906088165"
                    },
                    "user_tz": -480
                },
                "id": "aUUqcxO9479j",
                "outputId": "8e583cd1-3686-4ce0-fdbe-9b3e648b0a0d"
            },
            "outputs": [
                {
                    "name": "stdout",
                    "output_type": "stream",
                    "text": [
                        "105985\n",
                        "52776\n"
                    ]
                }
            ],
            "source": [
                "! find \"data/train\" -type f | wc -l\n",
                "! find \"data/validation\" -type f | wc -l"
            ]
        },
        {
            "cell_type": "code",
            "execution_count": 7,
            "metadata": {
                "colab": {
                    "base_uri": "https://localhost:8080/"
                },
                "executionInfo": {
                    "elapsed": 131030,
                    "status": "ok",
                    "timestamp": 1697436811948,
                    "user": {
                        "displayName": "EE FOOK MING _",
                        "userId": "04028093536906088165"
                    },
                    "user_tz": -480
                },
                "id": "4AISeLBD9biq",
                "outputId": "8e40b77f-1e00-458d-ee5b-6cb0701ea3a0"
            },
            "outputs": [
                {
                    "name": "stdout",
                    "output_type": "stream",
                    "text": [
                        "device:  cuda\n",
                        "data_dir:  data/train\n",
                        "total_data_points:  2944\n",
                        "data_dir:  data/validation\n",
                        "total_data_points:  1466\n",
                        "CPU times: user 25.8 s, sys: 10.9 s, total: 36.7 s\n",
                        "Wall time: 34min 34s\n"
                    ]
                }
            ],
            "source": [
                "%%time\n",
                "!python preprocess.py"
            ]
        },
        {
            "cell_type": "code",
            "execution_count": 21,
            "metadata": {
                "colab": {
                    "base_uri": "https://localhost:8080/"
                },
                "executionInfo": {
                    "elapsed": 37271,
                    "status": "ok",
                    "timestamp": 1697436917628,
                    "user": {
                        "displayName": "EE FOOK MING _",
                        "userId": "04028093536906088165"
                    },
                    "user_tz": -480
                },
                "id": "LrfFdJf3MNIb",
                "outputId": "d702b68c-e3a6-44af-af55-0684d8a73fc8"
            },
            "outputs": [
                {
                    "name": "stdout",
                    "output_type": "stream",
                    "text": [
                        "cuda\n",
                        "classes:  50 batch 32\n",
                        "Epoch 1, Loss: 3.9114, Accuracy: 2.38%\n",
                        "Epoch 2, Loss: 3.8952, Accuracy: 12.53%\n",
                        "Epoch 3, Loss: 3.8308, Accuracy: 36.01%\n",
                        "Epoch 4, Loss: 3.7276, Accuracy: 53.06%\n",
                        "Epoch 5, Loss: 3.6046, Accuracy: 62.13%\n",
                        "Epoch 6, Loss: 3.4940, Accuracy: 67.66%\n",
                        "Epoch 7, Loss: 3.4049, Accuracy: 72.66%\n",
                        "Epoch 8, Loss: 3.3327, Accuracy: 76.80%\n",
                        "Epoch 9, Loss: 3.2788, Accuracy: 80.60%\n",
                        "Epoch 10, Loss: 3.2389, Accuracy: 83.49%\n",
                        "Epoch 11, Loss: 3.2066, Accuracy: 85.70%\n",
                        "Epoch 12, Loss: 3.1820, Accuracy: 87.50%\n",
                        "Epoch 13, Loss: 3.1566, Accuracy: 89.33%\n",
                        "Epoch 14, Loss: 3.1347, Accuracy: 90.32%\n",
                        "Epoch 15, Loss: 3.1176, Accuracy: 91.54%\n",
                        "Epoch 16, Loss: 3.1007, Accuracy: 92.05%\n",
                        "Epoch 17, Loss: 3.0876, Accuracy: 92.32%\n",
                        "Epoch 18, Loss: 3.0762, Accuracy: 92.76%\n",
                        "Epoch 19, Loss: 3.0674, Accuracy: 93.10%\n",
                        "Epoch 20, Loss: 3.0592, Accuracy: 93.17%\n",
                        "Epoch 21, Loss: 3.0508, Accuracy: 93.58%\n",
                        "Epoch 22, Loss: 3.0437, Accuracy: 93.82%\n",
                        "Epoch 23, Loss: 3.0381, Accuracy: 94.12%\n",
                        "Epoch 24, Loss: 3.0324, Accuracy: 94.33%\n",
                        "Epoch 25, Loss: 3.0279, Accuracy: 94.63%\n",
                        "Epoch 26, Loss: 3.0241, Accuracy: 94.74%\n",
                        "Epoch 27, Loss: 3.0217, Accuracy: 94.90%\n",
                        "Epoch 28, Loss: 3.0182, Accuracy: 95.21%\n",
                        "Epoch 29, Loss: 3.0154, Accuracy: 95.35%\n",
                        "Epoch 30, Loss: 3.0113, Accuracy: 95.58%\n",
                        "Epoch 31, Loss: 3.0088, Accuracy: 95.79%\n",
                        "Epoch 32, Loss: 3.0070, Accuracy: 95.92%\n",
                        "Epoch 33, Loss: 3.0033, Accuracy: 96.06%\n",
                        "Epoch 34, Loss: 3.0017, Accuracy: 96.23%\n",
                        "Epoch 35, Loss: 3.0001, Accuracy: 96.33%\n",
                        "Epoch 36, Loss: 2.9971, Accuracy: 96.43%\n",
                        "Epoch 37, Loss: 2.9946, Accuracy: 96.50%\n",
                        "Epoch 38, Loss: 2.9918, Accuracy: 96.60%\n",
                        "Epoch 39, Loss: 2.9905, Accuracy: 96.71%\n",
                        "Epoch 40, Loss: 2.9896, Accuracy: 96.77%\n",
                        "Epoch 41, Loss: 2.9881, Accuracy: 96.84%\n",
                        "Epoch 42, Loss: 2.9875, Accuracy: 96.84%\n",
                        "Epoch 43, Loss: 2.9866, Accuracy: 96.94%\n",
                        "Epoch 44, Loss: 2.9866, Accuracy: 96.91%\n",
                        "Epoch 45, Loss: 2.9855, Accuracy: 96.98%\n",
                        "Epoch 46, Loss: 2.9843, Accuracy: 96.98%\n",
                        "Epoch 47, Loss: 2.9831, Accuracy: 97.04%\n",
                        "Epoch 48, Loss: 2.9828, Accuracy: 97.04%\n",
                        "Epoch 49, Loss: 2.9862, Accuracy: 97.08%\n",
                        "Epoch 50, Loss: 2.9869, Accuracy: 97.11%\n",
                        "CPU times: user 1.57 s, sys: 463 ms, total: 2.03 s\n",
                        "Wall time: 1min 49s\n"
                    ]
                }
            ],
            "source": [
                "%%time\n",
                "!python train.py --epochs=50 --batch=32"
            ]
        }
    ],
    "metadata": {
        "accelerator": "GPU",
        "colab": {
            "gpuType": "T4",
            "provenance": []
        },
        "kernelspec": {
            "display_name": "Python 3",
            "name": "python3"
        },
        "language_info": {
            "codemirror_mode": {
                "name": "ipython",
                "version": 3
            },
            "file_extension": ".py",
            "mimetype": "text/x-python",
            "name": "python",
            "nbconvert_exporter": "python",
            "pygments_lexer": "ipython3",
            "version": "3.11.4"
        }
    },
    "nbformat": 4,
    "nbformat_minor": 0
}
