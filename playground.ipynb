{
    "cells": [
        {
            "cell_type": "code",
            "execution_count": 1,
            "metadata": {},
            "outputs": [
                {
                    "name": "stdout",
                    "output_type": "stream",
                    "text": [
                        "dataset len: 2944\n",
                        "train_set len: 2356\n",
                        "val_set len: 588\n"
                    ]
                },
                {
                    "data": {
                        "text/plain": [
                            "<train.JigsawDataset at 0x7fdd00264b50>"
                        ]
                    },
                    "execution_count": 1,
                    "metadata": {},
                    "output_type": "execute_result"
                }
            ],
            "source": [
                "from train import *\n",
                "\n",
                "model = JigsawModel(n_classes=50)\n",
                "dataset"
            ]
        },
        {
            "cell_type": "code",
            "execution_count": 2,
            "metadata": {},
            "outputs": [
                {
                    "data": {
                        "text/plain": [
                            "torch.Size([36, 2048])"
                        ]
                    },
                    "execution_count": 2,
                    "metadata": {},
                    "output_type": "execute_result"
                }
            ],
            "source": [
                "dataset[0][0].shape"
            ]
        },
        {
            "cell_type": "code",
            "execution_count": 3,
            "metadata": {
                "colab": {
                    "base_uri": "https://localhost:8080/"
                },
                "executionInfo": {
                    "elapsed": 550,
                    "status": "ok",
                    "timestamp": 1697435495996,
                    "user": {
                        "displayName": "EE FOOK MING _",
                        "userId": "04028093536906088165"
                    },
                    "user_tz": -480
                },
                "id": "ZBQ4ASrT4tDX",
                "outputId": "151af634-486e-4824-f7dc-b85459f300b4"
            },
            "outputs": [
                {
                    "name": "stdout",
                    "output_type": "stream",
                    "text": [
                        "[INFO] Register count_linear() for <class 'torch.nn.modules.linear.Linear'>.\n",
                        "[INFO] Register count_normalization() for <class 'torch.nn.modules.batchnorm.BatchNorm1d'>.\n",
                        "1.728G 1.728G\n"
                    ]
                }
            ],
            "source": [
                "import torch\n",
                "from thop import profile\n",
                "from thop import clever_format\n",
                "\n",
                "x = dataset[0][0]\n",
                "flops, params = profile(model, inputs=(x,))\n",
                "flops, params = clever_format([flops, params], \"%.3f\")\n",
                "\n",
                "print(flops, params)"
            ]
        },
        {
            "cell_type": "code",
            "execution_count": 4,
            "metadata": {},
            "outputs": [
                {
                    "name": "stdout",
                    "output_type": "stream",
                    "text": [
                        "[INFO] Register count_linear() for <class 'torch.nn.modules.linear.Linear'>.\n",
                        "[INFO] Register count_normalization() for <class 'torch.nn.modules.batchnorm.BatchNorm1d'>.\n",
                        "407.052M 370.373M\n"
                    ]
                }
            ],
            "source": [
                "import torch\n",
                "from thop import profile\n",
                "from thop import clever_format\n",
                "from JigsawNet import JigsawNet\n",
                "\n",
                "model = JigsawNet(n_classes=50)\n",
                "\n",
                "x = dataset[0][0]\n",
                "flops, params = profile(model, inputs=(x,))\n",
                "flops, params = clever_format([flops, params], \"%.3f\")\n",
                "\n",
                "print(flops, params)"
            ]
        },
        {
            "cell_type": "code",
            "execution_count": 6,
            "metadata": {},
            "outputs": [
                {
                    "ename": "RuntimeError",
                    "evalue": "Error(s) in loading state_dict for JigsawNet:\n\tMissing key(s) in state_dict: \"total_ops\", \"total_params\". ",
                    "output_type": "error",
                    "traceback": [
                        "\u001b[0;31m---------------------------------------------------------------------------\u001b[0m",
                        "\u001b[0;31mRuntimeError\u001b[0m                              Traceback (most recent call last)",
                        "\u001b[1;32m/home/inflaton/code/projects/cs712/playground.ipynb Cell 5\u001b[0m line \u001b[0;36m1\n\u001b[1;32m      <a href='vscode-notebook-cell://wsl%2Bubuntu/home/inflaton/code/projects/cs712/playground.ipynb#X15sdnNjb2RlLXJlbW90ZQ%3D%3D?line=8'>9</a>\u001b[0m model \u001b[39m=\u001b[39m model\u001b[39m.\u001b[39mto(device)\n\u001b[1;32m     <a href='vscode-notebook-cell://wsl%2Bubuntu/home/inflaton/code/projects/cs712/playground.ipynb#X15sdnNjb2RlLXJlbW90ZQ%3D%3D?line=10'>11</a>\u001b[0m \u001b[39m# Evaluate the model and save the results to a text file\u001b[39;00m\n\u001b[0;32m---> <a href='vscode-notebook-cell://wsl%2Bubuntu/home/inflaton/code/projects/cs712/playground.ipynb#X15sdnNjb2RlLXJlbW90ZQ%3D%3D?line=11'>12</a>\u001b[0m evaluate_model(model, validation_loader)\n",
                        "File \u001b[0;32m~/code/projects/cs712/train.py:172\u001b[0m, in \u001b[0;36mevaluate_model\u001b[0;34m(model, data_loader)\u001b[0m\n\u001b[1;32m    170\u001b[0m     filename \u001b[39m=\u001b[39m files[\u001b[39m0\u001b[39m]\n\u001b[1;32m    171\u001b[0m     checkpoint \u001b[39m=\u001b[39m \u001b[39mint\u001b[39m(re\u001b[39m.\u001b[39msplit(\u001b[39m\"\u001b[39m\u001b[39m[-.]\u001b[39m\u001b[39m\"\u001b[39m, filename)[\u001b[39m-\u001b[39m\u001b[39m2\u001b[39m])\n\u001b[0;32m--> 172\u001b[0m     checkpoint_load(model, save_path, checkpoint)\n\u001b[1;32m    174\u001b[0m model\u001b[39m.\u001b[39meval()\n\u001b[1;32m    175\u001b[0m all_predictions \u001b[39m=\u001b[39m []  \u001b[39m# To store translated predictions\u001b[39;00m\n",
                        "File \u001b[0;32m~/code/projects/cs712/train.py:74\u001b[0m, in \u001b[0;36mcheckpoint_load\u001b[0;34m(model, save_path, epoch, n_classes, model_ver)\u001b[0m\n\u001b[1;32m     72\u001b[0m filename \u001b[39m=\u001b[39m \u001b[39m\"\u001b[39m\u001b[39mcheckpoint-\u001b[39m\u001b[39m{:03d}\u001b[39;00m\u001b[39m.pth\u001b[39m\u001b[39m\"\u001b[39m\u001b[39m.\u001b[39mformat(epoch)\n\u001b[1;32m     73\u001b[0m f \u001b[39m=\u001b[39m os\u001b[39m.\u001b[39mpath\u001b[39m.\u001b[39mjoin(save_path, filename)\n\u001b[0;32m---> 74\u001b[0m model\u001b[39m.\u001b[39;49mload_state_dict(torch\u001b[39m.\u001b[39;49mload(f))\n\u001b[1;32m     75\u001b[0m \u001b[39mprint\u001b[39m(\u001b[39m\"\u001b[39m\u001b[39mloaded checkpoint:\u001b[39m\u001b[39m\"\u001b[39m, f, flush\u001b[39m=\u001b[39m\u001b[39mTrue\u001b[39;00m)\n",
                        "File \u001b[0;32m~/miniconda3/envs/cs712/lib/python3.11/site-packages/torch/nn/modules/module.py:2152\u001b[0m, in \u001b[0;36mModule.load_state_dict\u001b[0;34m(self, state_dict, strict, assign)\u001b[0m\n\u001b[1;32m   2147\u001b[0m         error_msgs\u001b[39m.\u001b[39minsert(\n\u001b[1;32m   2148\u001b[0m             \u001b[39m0\u001b[39m, \u001b[39m'\u001b[39m\u001b[39mMissing key(s) in state_dict: \u001b[39m\u001b[39m{}\u001b[39;00m\u001b[39m. \u001b[39m\u001b[39m'\u001b[39m\u001b[39m.\u001b[39mformat(\n\u001b[1;32m   2149\u001b[0m                 \u001b[39m'\u001b[39m\u001b[39m, \u001b[39m\u001b[39m'\u001b[39m\u001b[39m.\u001b[39mjoin(\u001b[39mf\u001b[39m\u001b[39m'\u001b[39m\u001b[39m\"\u001b[39m\u001b[39m{\u001b[39;00mk\u001b[39m}\u001b[39;00m\u001b[39m\"\u001b[39m\u001b[39m'\u001b[39m \u001b[39mfor\u001b[39;00m k \u001b[39min\u001b[39;00m missing_keys)))\n\u001b[1;32m   2151\u001b[0m \u001b[39mif\u001b[39;00m \u001b[39mlen\u001b[39m(error_msgs) \u001b[39m>\u001b[39m \u001b[39m0\u001b[39m:\n\u001b[0;32m-> 2152\u001b[0m     \u001b[39mraise\u001b[39;00m \u001b[39mRuntimeError\u001b[39;00m(\u001b[39m'\u001b[39m\u001b[39mError(s) in loading state_dict for \u001b[39m\u001b[39m{}\u001b[39;00m\u001b[39m:\u001b[39m\u001b[39m\\n\u001b[39;00m\u001b[39m\\t\u001b[39;00m\u001b[39m{}\u001b[39;00m\u001b[39m'\u001b[39m\u001b[39m.\u001b[39mformat(\n\u001b[1;32m   2153\u001b[0m                        \u001b[39mself\u001b[39m\u001b[39m.\u001b[39m\u001b[39m__class__\u001b[39m\u001b[39m.\u001b[39m\u001b[39m__name__\u001b[39m, \u001b[39m\"\u001b[39m\u001b[39m\\n\u001b[39;00m\u001b[39m\\t\u001b[39;00m\u001b[39m\"\u001b[39m\u001b[39m.\u001b[39mjoin(error_msgs)))\n\u001b[1;32m   2154\u001b[0m \u001b[39mreturn\u001b[39;00m _IncompatibleKeys(missing_keys, unexpected_keys)\n",
                        "\u001b[0;31mRuntimeError\u001b[0m: Error(s) in loading state_dict for JigsawNet:\n\tMissing key(s) in state_dict: \"total_ops\", \"total_params\". "
                    ]
                }
            ],
            "source": [
                "batch_size = 32\n",
                "\n",
                "validation_data = np.load(f\"data/preprocessed_validation.npy\")\n",
                "validation_data = torch.from_numpy(validation_data).float()\n",
                "\n",
                "validation_dataset = JigsawValidationDataset(validation_data)\n",
                "validation_loader = DataLoader(validation_dataset, batch_size=batch_size, shuffle=False)\n",
                "\n",
                "model = model.to(device)\n",
                "\n",
                "# Evaluate the model and save the results to a text file\n",
                "evaluate_model(model, validation_loader)"
            ]
        }
    ],
    "metadata": {
        "accelerator": "GPU",
        "colab": {
            "gpuType": "T4",
            "provenance": []
        },
        "kernelspec": {
            "display_name": "Python 3",
            "name": "python3"
        },
        "language_info": {
            "codemirror_mode": {
                "name": "ipython",
                "version": 3
            },
            "file_extension": ".py",
            "mimetype": "text/x-python",
            "name": "python",
            "nbconvert_exporter": "python",
            "pygments_lexer": "ipython3",
            "version": "3.11.5"
        }
    },
    "nbformat": 4,
    "nbformat_minor": 0
}
