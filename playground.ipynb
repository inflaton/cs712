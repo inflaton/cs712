{
    "cells": [
        {
            "cell_type": "code",
            "execution_count": 1,
            "metadata": {},
            "outputs": [
                {
                    "name": "stdout",
                    "output_type": "stream",
                    "text": [
                        "dataset len: 2944\n",
                        "train_set len: 2356\n",
                        "val_set len: 588\n"
                    ]
                },
                {
                    "data": {
                        "text/plain": [
                            "<train.JigsawDataset at 0x7fa09c93a250>"
                        ]
                    },
                    "execution_count": 1,
                    "metadata": {},
                    "output_type": "execute_result"
                }
            ],
            "source": [
                "from train import *\n",
                "\n",
                "model = JigsawModel(n_classes=50)\n",
                "dataset"
            ]
        },
        {
            "cell_type": "code",
            "execution_count": 2,
            "metadata": {},
            "outputs": [
                {
                    "data": {
                        "text/plain": [
                            "torch.Size([36, 2048])"
                        ]
                    },
                    "execution_count": 2,
                    "metadata": {},
                    "output_type": "execute_result"
                }
            ],
            "source": [
                "dataset[0][0].shape"
            ]
        },
        {
            "cell_type": "code",
            "execution_count": 3,
            "metadata": {
                "colab": {
                    "base_uri": "https://localhost:8080/"
                },
                "executionInfo": {
                    "elapsed": 550,
                    "status": "ok",
                    "timestamp": 1697435495996,
                    "user": {
                        "displayName": "EE FOOK MING _",
                        "userId": "04028093536906088165"
                    },
                    "user_tz": -480
                },
                "id": "ZBQ4ASrT4tDX",
                "outputId": "151af634-486e-4824-f7dc-b85459f300b4"
            },
            "outputs": [
                {
                    "name": "stdout",
                    "output_type": "stream",
                    "text": [
                        "[INFO] Register count_linear() for <class 'torch.nn.modules.linear.Linear'>.\n",
                        "[INFO] Register count_normalization() for <class 'torch.nn.modules.batchnorm.BatchNorm1d'>.\n",
                        "1.728G 1.728G\n"
                    ]
                }
            ],
            "source": [
                "import torch\n",
                "from thop import profile\n",
                "from thop import clever_format\n",
                "\n",
                "x = dataset[0][0]\n",
                "flops, params = profile(model, inputs=(x,))\n",
                "flops, params = clever_format([flops, params], \"%.3f\")\n",
                "\n",
                "print(flops, params)"
            ]
        },
        {
            "cell_type": "code",
            "execution_count": 4,
            "metadata": {},
            "outputs": [
                {
                    "name": "stdout",
                    "output_type": "stream",
                    "text": [
                        "[INFO] Register count_linear() for <class 'torch.nn.modules.linear.Linear'>.\n",
                        "[INFO] Register count_normalization() for <class 'torch.nn.modules.batchnorm.BatchNorm1d'>.\n",
                        "[INFO] Register zero_ops() for <class 'torch.nn.modules.dropout.Dropout'>.\n",
                        "[INFO] Register zero_ops() for <class 'torch.nn.modules.container.Sequential'>.\n",
                        "407.055M 370.376M\n"
                    ]
                }
            ],
            "source": [
                "import torch\n",
                "from thop import profile\n",
                "from thop import clever_format\n",
                "from JigsawNet import JigsawNet\n",
                "\n",
                "model = JigsawNet(n_classes=50)\n",
                "\n",
                "x = dataset[0][0]\n",
                "flops, params = profile(model, inputs=(x,))\n",
                "flops, params = clever_format([flops, params], \"%.3f\")\n",
                "\n",
                "print(flops, params)"
            ]
        },
        {
            "cell_type": "code",
            "execution_count": 9,
            "metadata": {},
            "outputs": [
                {
                    "name": "stdout",
                    "output_type": "stream",
                    "text": [
                        "loaded checkpoint: /home/inflaton/code/projects/cs712/data/checkpoints/checkpoint-046.pth\n",
                        "results saved to: data/result.zip\n"
                    ]
                }
            ],
            "source": [
                "batch_size = 32\n",
                "\n",
                "validation_data = np.load(f\"data/preprocessed_validation.npy\")\n",
                "validation_data = torch.from_numpy(validation_data).float()\n",
                "\n",
                "validation_dataset = JigsawValidationDataset(validation_data)\n",
                "validation_loader = DataLoader(validation_dataset, batch_size=batch_size, shuffle=False)\n",
                "\n",
                "model = JigsawNet(n_classes=50)\n",
                "model = model.to(device)\n",
                "\n",
                "# Evaluate the model and save the results to a text file\n",
                "evaluate_model(model, validation_loader)"
            ]
        },
        {
            "cell_type": "code",
            "execution_count": 1,
            "metadata": {},
            "outputs": [
                {
                    "name": "stdout",
                    "output_type": "stream",
                    "text": [
                        "loaded training data from: data/preprocessed_train_0.npy\n",
                        "loaded training data from: data/preprocessed_train_1.npy\n",
                        "loaded training data from: data/preprocessed_train_2.npy\n",
                        "loaded training data from: data/preprocessed_train_3.npy\n",
                        "loaded training data from: data/preprocessed_train_4.npy\n",
                        "loaded training data from: data/preprocessed_train_5.npy\n",
                        "loaded training data from: data/preprocessed_train_6.npy\n",
                        "loaded training data from: data/preprocessed_train_7.npy\n",
                        "loaded training data from: data/preprocessed_train_8.npy\n",
                        "loaded training data from: data/preprocessed_train_9.npy\n",
                        "dataset len: 29440\n",
                        "train_set len: 23552\n",
                        "val_set len: 5888\n"
                    ]
                },
                {
                    "data": {
                        "text/plain": [
                            "(29440, 29440)"
                        ]
                    },
                    "execution_count": 1,
                    "metadata": {},
                    "output_type": "execute_result"
                }
            ],
            "source": [
                "from train_v2 import *\n",
                "\n",
                "data, labels = load_training_data()\n",
                "\n",
                "len(data), len(labels)"
            ]
        },
        {
            "cell_type": "code",
            "execution_count": 2,
            "metadata": {},
            "outputs": [
                {
                    "data": {
                        "text/plain": [
                            "(10.0, 10.0)"
                        ]
                    },
                    "execution_count": 2,
                    "metadata": {},
                    "output_type": "execute_result"
                }
            ],
            "source": [
                "len(data) / 2944, len(labels) / 2944"
            ]
        },
        {
            "cell_type": "code",
            "execution_count": 3,
            "metadata": {},
            "outputs": [
                {
                    "name": "stdout",
                    "output_type": "stream",
                    "text": [
                        "loaded training data from: data/preprocessed_train_0.npy\n",
                        "loaded training data from: data/preprocessed_train_1.npy\n",
                        "loaded training data from: data/preprocessed_train_2.npy\n",
                        "loaded training data from: data/preprocessed_train_3.npy\n",
                        "loaded training data from: data/preprocessed_train_4.npy\n",
                        "loaded training data from: data/preprocessed_train_5.npy\n",
                        "loaded training data from: data/preprocessed_train_6.npy\n",
                        "loaded training data from: data/preprocessed_train_7.npy\n",
                        "loaded training data from: data/preprocessed_train_8.npy\n",
                        "loaded training data from: data/preprocessed_train_9.npy\n",
                        "dataset len: 29440\n",
                        "train_set len: 23552\n",
                        "val_set len: 5888\n",
                        "cuda\n",
                        "epochs:  100 batch 64\n",
                        "Epoch 1, Learning rate: 0.0010000000\n",
                        "Epoch 1, Training Loss: 3.7464, Training Accuracy: 30.58%\n",
                        "Epoch 1, Validation Loss: 3.4159, Validation Accuracy: 62.28%\n",
                        "saved checkpoint: /home/inflaton/code/projects/cs712/data/checkpoints/checkpoint-000.pth\n",
                        "Epoch 2, Learning rate: 0.0010000000\n",
                        "Epoch 2, Training Loss: 3.2924, Training Accuracy: 75.25%\n",
                        "Epoch 2, Validation Loss: 3.1551, Validation Accuracy: 84.63%\n",
                        "saved checkpoint: /home/inflaton/code/projects/cs712/data/checkpoints/checkpoint-001.pth\n",
                        "Epoch 3, Learning rate: 0.0010000000\n",
                        "Epoch 3, Training Loss: 3.1341, Training Accuracy: 89.01%\n",
                        "Epoch 3, Validation Loss: 3.0567, Validation Accuracy: 91.39%\n",
                        "saved checkpoint: /home/inflaton/code/projects/cs712/data/checkpoints/checkpoint-002.pth\n",
                        "Epoch 4, Learning rate: 0.0010000000\n",
                        "Epoch 4, Training Loss: 3.0571, Training Accuracy: 94.44%\n",
                        "Epoch 4, Validation Loss: 3.0070, Validation Accuracy: 95.65%\n",
                        "saved checkpoint: /home/inflaton/code/projects/cs712/data/checkpoints/checkpoint-003.pth\n",
                        "Epoch 5, Learning rate: 0.0010000000\n",
                        "Epoch 5, Training Loss: 3.0100, Training Accuracy: 97.48%\n",
                        "Epoch 5, Validation Loss: 2.9756, Validation Accuracy: 97.83%\n",
                        "saved checkpoint: /home/inflaton/code/projects/cs712/data/checkpoints/checkpoint-004.pth\n",
                        "Epoch 6, Learning rate: 0.0010000000\n",
                        "Epoch 6, Training Loss: 2.9834, Training Accuracy: 98.85%\n",
                        "Epoch 6, Validation Loss: 2.9606, Validation Accuracy: 98.79%\n",
                        "saved checkpoint: /home/inflaton/code/projects/cs712/data/checkpoints/checkpoint-005.pth\n",
                        "Epoch 7, Learning rate: 0.0010000000\n",
                        "Epoch 7, Training Loss: 2.9701, Training Accuracy: 99.36%\n",
                        "Epoch 7, Validation Loss: 2.9555, Validation Accuracy: 99.35%\n",
                        "saved checkpoint: /home/inflaton/code/projects/cs712/data/checkpoints/checkpoint-006.pth\n",
                        "Epoch 8, Learning rate: 0.0010000000\n"
                    ]
                }
            ],
            "source": [
                "%%time\n",
                "\n",
                "!python train_v2.py -e 100 -b 64 2>&1 | tee logs/v2-e-100-b-64.txt"
            ]
        }
    ],
    "metadata": {
        "accelerator": "GPU",
        "colab": {
            "gpuType": "T4",
            "provenance": []
        },
        "kernelspec": {
            "display_name": "Python 3",
            "name": "python3"
        },
        "language_info": {
            "codemirror_mode": {
                "name": "ipython",
                "version": 3
            },
            "file_extension": ".py",
            "mimetype": "text/x-python",
            "name": "python",
            "nbconvert_exporter": "python",
            "pygments_lexer": "ipython3",
            "version": "3.11.5"
        }
    },
    "nbformat": 4,
    "nbformat_minor": 0
}
