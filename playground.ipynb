{
    "cells": [
        {
            "cell_type": "code",
            "execution_count": 1,
            "metadata": {},
            "outputs": [
                {
                    "name": "stdout",
                    "output_type": "stream",
                    "text": [
                        "dataset len: 2944\n",
                        "train_set len: 2356\n",
                        "val_set len: 588\n"
                    ]
                },
                {
                    "data": {
                        "text/plain": [
                            "<train.JigsawDataset at 0x7fa09c93a250>"
                        ]
                    },
                    "execution_count": 1,
                    "metadata": {},
                    "output_type": "execute_result"
                }
            ],
            "source": [
                "from train import *\n",
                "\n",
                "model = JigsawModel(n_classes=50)\n",
                "dataset"
            ]
        },
        {
            "cell_type": "code",
            "execution_count": 2,
            "metadata": {},
            "outputs": [
                {
                    "data": {
                        "text/plain": [
                            "torch.Size([36, 2048])"
                        ]
                    },
                    "execution_count": 2,
                    "metadata": {},
                    "output_type": "execute_result"
                }
            ],
            "source": [
                "dataset[0][0].shape"
            ]
        },
        {
            "cell_type": "code",
            "execution_count": 3,
            "metadata": {
                "colab": {
                    "base_uri": "https://localhost:8080/"
                },
                "executionInfo": {
                    "elapsed": 550,
                    "status": "ok",
                    "timestamp": 1697435495996,
                    "user": {
                        "displayName": "EE FOOK MING _",
                        "userId": "04028093536906088165"
                    },
                    "user_tz": -480
                },
                "id": "ZBQ4ASrT4tDX",
                "outputId": "151af634-486e-4824-f7dc-b85459f300b4"
            },
            "outputs": [
                {
                    "name": "stdout",
                    "output_type": "stream",
                    "text": [
                        "[INFO] Register count_linear() for <class 'torch.nn.modules.linear.Linear'>.\n",
                        "[INFO] Register count_normalization() for <class 'torch.nn.modules.batchnorm.BatchNorm1d'>.\n",
                        "1.728G 1.728G\n"
                    ]
                }
            ],
            "source": [
                "import torch\n",
                "from thop import profile\n",
                "from thop import clever_format\n",
                "\n",
                "x = dataset[0][0]\n",
                "flops, params = profile(model, inputs=(x,))\n",
                "flops, params = clever_format([flops, params], \"%.3f\")\n",
                "\n",
                "print(flops, params)"
            ]
        },
        {
            "cell_type": "code",
            "execution_count": 4,
            "metadata": {},
            "outputs": [
                {
                    "name": "stdout",
                    "output_type": "stream",
                    "text": [
                        "[INFO] Register count_linear() for <class 'torch.nn.modules.linear.Linear'>.\n",
                        "[INFO] Register count_normalization() for <class 'torch.nn.modules.batchnorm.BatchNorm1d'>.\n",
                        "[INFO] Register zero_ops() for <class 'torch.nn.modules.dropout.Dropout'>.\n",
                        "[INFO] Register zero_ops() for <class 'torch.nn.modules.container.Sequential'>.\n",
                        "407.055M 370.376M\n"
                    ]
                }
            ],
            "source": [
                "import torch\n",
                "from thop import profile\n",
                "from thop import clever_format\n",
                "from JigsawNet import JigsawNet\n",
                "\n",
                "model = JigsawNet(n_classes=50)\n",
                "\n",
                "x = dataset[0][0]\n",
                "flops, params = profile(model, inputs=(x,))\n",
                "flops, params = clever_format([flops, params], \"%.3f\")\n",
                "\n",
                "print(flops, params)"
            ]
        },
        {
            "cell_type": "code",
            "execution_count": 9,
            "metadata": {},
            "outputs": [
                {
                    "name": "stdout",
                    "output_type": "stream",
                    "text": [
                        "loaded checkpoint: /home/inflaton/code/projects/cs712/data/checkpoints/checkpoint-046.pth\n",
                        "results saved to: data/result.zip\n"
                    ]
                }
            ],
            "source": [
                "batch_size = 32\n",
                "\n",
                "validation_data = np.load(f\"data/preprocessed_validation.npy\")\n",
                "validation_data = torch.from_numpy(validation_data).float()\n",
                "\n",
                "validation_dataset = JigsawValidationDataset(validation_data)\n",
                "validation_loader = DataLoader(validation_dataset, batch_size=batch_size, shuffle=False)\n",
                "\n",
                "model = JigsawNet(n_classes=50)\n",
                "model = model.to(device)\n",
                "\n",
                "# Evaluate the model and save the results to a text file\n",
                "evaluate_model(model, validation_loader)"
            ]
        },
        {
            "cell_type": "code",
            "execution_count": 1,
            "metadata": {},
            "outputs": [
                {
                    "name": "stdout",
                    "output_type": "stream",
                    "text": [
                        "loaded training data from: data/preprocessed_train_0.npy\n",
                        "loaded training data from: data/preprocessed_train_1.npy\n",
                        "loaded training data from: data/preprocessed_train_2.npy\n",
                        "loaded training data from: data/preprocessed_train_3.npy\n",
                        "loaded training data from: data/preprocessed_train_4.npy\n",
                        "loaded training data from: data/preprocessed_train_5.npy\n",
                        "loaded training data from: data/preprocessed_train_6.npy\n",
                        "loaded training data from: data/preprocessed_train_7.npy\n",
                        "loaded training data from: data/preprocessed_train_8.npy\n",
                        "loaded training data from: data/preprocessed_train_9.npy\n",
                        "dataset len: 29440\n",
                        "train_set len: 23552\n",
                        "val_set len: 5888\n"
                    ]
                },
                {
                    "data": {
                        "text/plain": [
                            "(29440, 29440)"
                        ]
                    },
                    "execution_count": 1,
                    "metadata": {},
                    "output_type": "execute_result"
                }
            ],
            "source": [
                "from train_v2 import *\n",
                "\n",
                "data, labels = load_training_data()\n",
                "\n",
                "len(data), len(labels)"
            ]
        },
        {
            "cell_type": "code",
            "execution_count": 2,
            "metadata": {},
            "outputs": [
                {
                    "data": {
                        "text/plain": [
                            "(10.0, 10.0)"
                        ]
                    },
                    "execution_count": 2,
                    "metadata": {},
                    "output_type": "execute_result"
                }
            ],
            "source": [
                "len(data) / 2944, len(labels) / 2944"
            ]
        },
        {
            "cell_type": "code",
            "execution_count": 3,
            "metadata": {},
            "outputs": [
                {
                    "name": "stdout",
                    "output_type": "stream",
                    "text": [
                        "loaded training data from: data/preprocessed_train_0.npy\n",
                        "loaded training data from: data/preprocessed_train_1.npy\n",
                        "loaded training data from: data/preprocessed_train_2.npy\n",
                        "loaded training data from: data/preprocessed_train_3.npy\n",
                        "loaded training data from: data/preprocessed_train_4.npy\n",
                        "loaded training data from: data/preprocessed_train_5.npy\n",
                        "loaded training data from: data/preprocessed_train_6.npy\n",
                        "loaded training data from: data/preprocessed_train_7.npy\n",
                        "loaded training data from: data/preprocessed_train_8.npy\n",
                        "loaded training data from: data/preprocessed_train_9.npy\n",
                        "dataset len: 29440\n",
                        "train_set len: 23552\n",
                        "val_set len: 5888\n",
                        "cuda\n",
                        "epochs:  100 batch 64\n",
                        "Epoch 1, Learning rate: 0.0010000000\n",
                        "Epoch 1, Training Loss: 3.7464, Training Accuracy: 30.58%\n",
                        "Epoch 1, Validation Loss: 3.4159, Validation Accuracy: 62.28%\n",
                        "saved checkpoint: /home/inflaton/code/projects/cs712/data/checkpoints/checkpoint-000.pth\n",
                        "Epoch 2, Learning rate: 0.0010000000\n",
                        "Epoch 2, Training Loss: 3.2924, Training Accuracy: 75.25%\n",
                        "Epoch 2, Validation Loss: 3.1551, Validation Accuracy: 84.63%\n",
                        "saved checkpoint: /home/inflaton/code/projects/cs712/data/checkpoints/checkpoint-001.pth\n",
                        "Epoch 3, Learning rate: 0.0010000000\n",
                        "Epoch 3, Training Loss: 3.1341, Training Accuracy: 89.01%\n",
                        "Epoch 3, Validation Loss: 3.0567, Validation Accuracy: 91.39%\n",
                        "saved checkpoint: /home/inflaton/code/projects/cs712/data/checkpoints/checkpoint-002.pth\n",
                        "Epoch 4, Learning rate: 0.0010000000\n",
                        "Epoch 4, Training Loss: 3.0571, Training Accuracy: 94.44%\n",
                        "Epoch 4, Validation Loss: 3.0070, Validation Accuracy: 95.65%\n",
                        "saved checkpoint: /home/inflaton/code/projects/cs712/data/checkpoints/checkpoint-003.pth\n",
                        "Epoch 5, Learning rate: 0.0010000000\n",
                        "Epoch 5, Training Loss: 3.0100, Training Accuracy: 97.48%\n",
                        "Epoch 5, Validation Loss: 2.9756, Validation Accuracy: 97.83%\n",
                        "saved checkpoint: /home/inflaton/code/projects/cs712/data/checkpoints/checkpoint-004.pth\n",
                        "Epoch 6, Learning rate: 0.0010000000\n",
                        "Epoch 6, Training Loss: 2.9834, Training Accuracy: 98.85%\n",
                        "Epoch 6, Validation Loss: 2.9606, Validation Accuracy: 98.79%\n",
                        "saved checkpoint: /home/inflaton/code/projects/cs712/data/checkpoints/checkpoint-005.pth\n",
                        "Epoch 7, Learning rate: 0.0010000000\n",
                        "Epoch 7, Training Loss: 2.9701, Training Accuracy: 99.36%\n",
                        "Epoch 7, Validation Loss: 2.9555, Validation Accuracy: 99.35%\n",
                        "saved checkpoint: /home/inflaton/code/projects/cs712/data/checkpoints/checkpoint-006.pth\n",
                        "Epoch 8, Learning rate: 0.0010000000\n",
                        "Epoch 8, Training Loss: 2.9620, Training Accuracy: 99.62%\n",
                        "Epoch 8, Validation Loss: 2.9513, Validation Accuracy: 99.54%\n",
                        "saved checkpoint: /home/inflaton/code/projects/cs712/data/checkpoints/checkpoint-007.pth\n",
                        "Epoch 9, Learning rate: 0.0010000000\n",
                        "Epoch 9, Training Loss: 2.9576, Training Accuracy: 99.75%\n",
                        "Epoch 9, Validation Loss: 2.9510, Validation Accuracy: 99.54%\n",
                        "Epoch 10, Learning rate: 0.0010000000\n",
                        "Epoch 10, Training Loss: 2.9557, Training Accuracy: 99.77%\n",
                        "Epoch 10, Validation Loss: 2.9505, Validation Accuracy: 99.64%\n",
                        "saved checkpoint: /home/inflaton/code/projects/cs712/data/checkpoints/checkpoint-009.pth\n",
                        "Epoch 11, Learning rate: 0.0010000000\n",
                        "Epoch 11, Training Loss: 2.9544, Training Accuracy: 99.76%\n",
                        "Epoch 11, Validation Loss: 2.9499, Validation Accuracy: 99.61%\n",
                        "Epoch 12, Learning rate: 0.0010000000\n",
                        "Epoch 12, Training Loss: 2.9529, Training Accuracy: 99.80%\n",
                        "Epoch 12, Validation Loss: 2.9494, Validation Accuracy: 99.66%\n",
                        "saved checkpoint: /home/inflaton/code/projects/cs712/data/checkpoints/checkpoint-011.pth\n",
                        "Epoch 13, Learning rate: 0.0010000000\n",
                        "Epoch 13, Training Loss: 2.9517, Training Accuracy: 99.83%\n",
                        "Epoch 13, Validation Loss: 2.9495, Validation Accuracy: 99.66%\n",
                        "Epoch 14, Learning rate: 0.0010000000\n",
                        "Epoch 14, Training Loss: 2.9521, Training Accuracy: 99.81%\n",
                        "Epoch 14, Validation Loss: 2.9496, Validation Accuracy: 99.66%\n",
                        "Epoch 15, Learning rate: 0.0010000000\n",
                        "Epoch 15, Training Loss: 2.9590, Training Accuracy: 99.57%\n",
                        "Epoch 15, Validation Loss: 2.9922, Validation Accuracy: 97.72%\n",
                        "Epoch 16, Learning rate: 0.0010000000\n",
                        "Epoch 16, Training Loss: 2.9719, Training Accuracy: 99.17%\n",
                        "Epoch 16, Validation Loss: 2.9505, Validation Accuracy: 99.66%\n",
                        "Epoch 17, Learning rate: 0.0010000000\n",
                        "Epoch 17, Training Loss: 2.9522, Training Accuracy: 99.83%\n",
                        "Epoch 17, Validation Loss: 2.9494, Validation Accuracy: 99.66%\n",
                        "Epoch 18, Learning rate: 0.0010000000\n",
                        "Epoch 18, Training Loss: 2.9494, Training Accuracy: 99.83%\n",
                        "Epoch 18, Validation Loss: 2.9492, Validation Accuracy: 99.66%\n",
                        "Epoch 19, Learning rate: 0.0010000000\n",
                        "^C\n",
                        "CPU times: user 36 s, sys: 12.3 s, total: 48.3 s\n",
                        "Wall time: 38min 4s\n"
                    ]
                }
            ],
            "source": [
                "%%time\n",
                "\n",
                "!python train_v2.py -e 100 -b 64 2>&1 | tee logs/v2-e-100-b-64.txt"
            ]
        },
        {
            "cell_type": "code",
            "execution_count": 2,
            "metadata": {},
            "outputs": [
                {
                    "name": "stdout",
                    "output_type": "stream",
                    "text": [
                        "cuda\n",
                        "epochs:  10 batch 64\n",
                        "loaded training data from: data/preprocessed_train_0.npy\n",
                        "loaded training data from: data/preprocessed_train_1.npy\n",
                        "loaded training data from: data/preprocessed_train_2.npy\n",
                        "loaded training data from: data/preprocessed_train_3.npy\n",
                        "loaded training data from: data/preprocessed_train_4.npy\n",
                        "loaded training data from: data/preprocessed_train_5.npy\n",
                        "loaded training data from: data/preprocessed_train_6.npy\n",
                        "loaded training data from: data/preprocessed_train_7.npy\n",
                        "loaded training data from: data/preprocessed_train_8.npy\n",
                        "loaded training data from: data/preprocessed_train_9.npy\n",
                        "loaded training data from: data/preprocessed_train_10.npy\n",
                        "loaded training data from: data/preprocessed_train_11.npy\n",
                        "loaded training data from: data/preprocessed_train_12.npy\n",
                        "loaded training data from: data/preprocessed_train_13.npy\n",
                        "loaded training data from: data/preprocessed_train_14.npy\n",
                        "loaded training data from: data/preprocessed_train_15.npy\n",
                        "loaded training data from: data/preprocessed_train_16.npy\n",
                        "loaded training data from: data/preprocessed_train_17.npy\n",
                        "loaded training data from: data/preprocessed_train_18.npy\n",
                        "loaded training data from: data/preprocessed_train_19.npy\n",
                        "dataset len: 58880\n",
                        "loaded training data from: data/preprocessed_train.npy\n",
                        "train_set len: 58880\n",
                        "val_set len: 2944\n",
                        "Epoch 1, Learning rate: 0.0010000000\n",
                        "Epoch 1, Training Loss: 3.4536, Training Accuracy: 57.88%\n",
                        "Epoch 1, Validation Loss: 3.1197, Validation Accuracy: 85.33%\n",
                        "saved checkpoint: /home/inflaton/code/projects/cs712/data/checkpoints/checkpoint-000.pth\n",
                        "Epoch 2, Learning rate: 0.0010000000\n",
                        "Epoch 2, Training Loss: 3.0695, Training Accuracy: 90.13%\n",
                        "Epoch 2, Validation Loss: 3.0089, Validation Accuracy: 94.80%\n",
                        "saved checkpoint: /home/inflaton/code/projects/cs712/data/checkpoints/checkpoint-001.pth\n",
                        "Epoch 3, Learning rate: 0.0010000000\n",
                        "Epoch 3, Training Loss: 2.9954, Training Accuracy: 96.10%\n",
                        "Epoch 3, Validation Loss: 2.9812, Validation Accuracy: 96.94%\n",
                        "saved checkpoint: /home/inflaton/code/projects/cs712/data/checkpoints/checkpoint-002.pth\n",
                        "Epoch 4, Learning rate: 0.0010000000\n",
                        "Epoch 4, Training Loss: 2.9796, Training Accuracy: 97.07%\n",
                        "Epoch 4, Validation Loss: 2.9760, Validation Accuracy: 97.21%\n",
                        "saved checkpoint: /home/inflaton/code/projects/cs712/data/checkpoints/checkpoint-003.pth\n",
                        "Epoch 5, Learning rate: 0.0010000000\n",
                        "Epoch 5, Training Loss: 2.9756, Training Accuracy: 97.26%\n",
                        "Epoch 5, Validation Loss: 2.9741, Validation Accuracy: 97.35%\n",
                        "saved checkpoint: /home/inflaton/code/projects/cs712/data/checkpoints/checkpoint-004.pth\n",
                        "Epoch 6, Learning rate: 0.0010000000\n",
                        "Epoch 6, Training Loss: 2.9742, Training Accuracy: 97.32%\n",
                        "Epoch 6, Validation Loss: 2.9739, Validation Accuracy: 97.32%\n",
                        "Epoch 7, Learning rate: 0.0010000000\n",
                        "Epoch 7, Training Loss: 2.9834, Training Accuracy: 96.91%\n",
                        "Epoch 7, Validation Loss: 2.9929, Validation Accuracy: 96.81%\n",
                        "Epoch 8, Learning rate: 0.0010000000\n",
                        "Epoch 8, Training Loss: 2.9703, Training Accuracy: 97.69%\n",
                        "Epoch 8, Validation Loss: 2.9686, Validation Accuracy: 97.79%\n",
                        "saved checkpoint: /home/inflaton/code/projects/cs712/data/checkpoints/checkpoint-007.pth\n",
                        "Epoch 9, Learning rate: 0.0010000000\n",
                        "Epoch 9, Training Loss: 2.9679, Training Accuracy: 97.81%\n",
                        "Epoch 9, Validation Loss: 2.9680, Validation Accuracy: 97.83%\n",
                        "saved checkpoint: /home/inflaton/code/projects/cs712/data/checkpoints/checkpoint-008.pth\n",
                        "Epoch 10, Learning rate: 0.0010000000\n",
                        "Epoch 10, Training Loss: 2.9676, Training Accuracy: 97.83%\n",
                        "Epoch 10, Validation Loss: 2.9678, Validation Accuracy: 97.83%\n",
                        "Best epoch 9, Highest Validation Accuracy: 97.83%\n",
                        "loaded checkpoint: /home/inflaton/code/projects/cs712/data/checkpoints/checkpoint-007.pth\n",
                        "results saved to: data/result.zip\n",
                        "CPU times: user 43.8 s, sys: 13.1 s, total: 56.8 s\n",
                        "Wall time: 47min 12s\n"
                    ]
                }
            ],
            "source": [
                "%%time\n",
                "\n",
                "!python train_v4.py -e 10 -b 64 2>&1 | tee logs/v4-e-10-b-64.txt"
            ]
        },
        {
            "cell_type": "code",
            "execution_count": 4,
            "metadata": {},
            "outputs": [
                {
                    "name": "stdout",
                    "output_type": "stream",
                    "text": [
                        "device: cuda\n",
                        "epochs:  7 batch 64\n",
                        "loaded training data from: data/preprocessed_train_0.npy\n",
                        "loaded training data from: data/preprocessed_train_1.npy\n",
                        "loaded training data from: data/preprocessed_train_2.npy\n",
                        "loaded training data from: data/preprocessed_train_3.npy\n",
                        "loaded training data from: data/preprocessed_train_4.npy\n",
                        "loaded training data from: data/preprocessed_train_5.npy\n",
                        "loaded training data from: data/preprocessed_train_6.npy\n",
                        "loaded training data from: data/preprocessed_train_7.npy\n",
                        "loaded training data from: data/preprocessed_train_8.npy\n",
                        "loaded training data from: data/preprocessed_train_9.npy\n",
                        "dataset len: 29440\n",
                        "train_set len: 23552\n",
                        "val_set len: 5888\n",
                        "Epoch 1, Learning rate: 0.0010000000\n",
                        "Epoch 1, Training Loss: 3.8235, Training Accuracy: 19.76%\n",
                        "Epoch 1, Validation Loss: 3.5461, Validation Accuracy: 49.37%\n",
                        "saved checkpoint: /home/inflaton/code/projects/cs712/data/checkpoints/checkpoint-000.pth\n",
                        "Epoch 2, Learning rate: 0.0010000000\n",
                        "Epoch 2, Training Loss: 3.3655, Training Accuracy: 67.79%\n",
                        "Epoch 2, Validation Loss: 3.1777, Validation Accuracy: 82.05%\n",
                        "saved checkpoint: /home/inflaton/code/projects/cs712/data/checkpoints/checkpoint-001.pth\n",
                        "Epoch 3, Learning rate: 0.0010000000\n",
                        "Epoch 3, Training Loss: 3.1579, Training Accuracy: 86.52%\n",
                        "Epoch 3, Validation Loss: 3.0634, Validation Accuracy: 91.17%\n",
                        "saved checkpoint: /home/inflaton/code/projects/cs712/data/checkpoints/checkpoint-002.pth\n",
                        "Epoch 4, Learning rate: 0.0010000000\n",
                        "Epoch 4, Training Loss: 3.0672, Training Accuracy: 93.72%\n",
                        "Epoch 4, Validation Loss: 2.9988, Validation Accuracy: 96.45%\n",
                        "saved checkpoint: /home/inflaton/code/projects/cs712/data/checkpoints/checkpoint-003.pth\n",
                        "Epoch 5, Learning rate: 0.0010000000\n",
                        "Epoch 5, Training Loss: 3.0108, Training Accuracy: 97.43%\n",
                        "Epoch 5, Validation Loss: 2.9742, Validation Accuracy: 97.79%\n",
                        "saved checkpoint: /home/inflaton/code/projects/cs712/data/checkpoints/checkpoint-004.pth\n",
                        "Epoch 6, Learning rate: 0.0010000000\n",
                        "Epoch 6, Training Loss: 2.9865, Training Accuracy: 98.47%\n",
                        "Epoch 6, Validation Loss: 2.9616, Validation Accuracy: 98.95%\n",
                        "saved checkpoint: /home/inflaton/code/projects/cs712/data/checkpoints/checkpoint-005.pth\n",
                        "Epoch 7, Learning rate: 0.0010000000\n",
                        "Epoch 7, Training Loss: 2.9713, Training Accuracy: 99.25%\n",
                        "Epoch 7, Validation Loss: 2.9546, Validation Accuracy: 99.34%\n",
                        "saved checkpoint: /home/inflaton/code/projects/cs712/data/checkpoints/checkpoint-006.pth\n",
                        "Best epoch 7, Highest Validation Accuracy: 99.34%\n",
                        "CPU times: user 12 s, sys: 3.6 s, total: 15.6 s\n",
                        "Wall time: 12min 59s\n"
                    ]
                }
            ],
            "source": [
                "%%time\n",
                "\n",
                "!python train_v5.py -e 7 -b 64 2>&1 | tee logs/v5-e-7-b-64.txt"
            ]
        },
        {
            "cell_type": "code",
            "execution_count": 3,
            "metadata": {},
            "outputs": [],
            "source": [
                "def reset_random_generators():\n",
                "    RANDOM_SEED = 193\n",
                "\n",
                "    # initialising seed for reproducibility\n",
                "    torch.manual_seed(RANDOM_SEED)\n",
                "    torch.cuda.manual_seed(RANDOM_SEED)\n",
                "    seeded_generator = torch.Generator().manual_seed(RANDOM_SEED)\n",
                "    np.random.seed(RANDOM_SEED)\n",
                "    random.seed(RANDOM_SEED)\n",
                "    torch.backends.cudnn.deterministic = True"
            ]
        },
        {
            "cell_type": "code",
            "execution_count": null,
            "metadata": {},
            "outputs": [
                {
                    "name": "stdout",
                    "output_type": "stream",
                    "text": [
                        "device: cuda\n",
                        "num_classes:  50 batch_size 64\n",
                        "checkpoint:  8 highest_cp 19\n",
                        "loaded checkpoint: /home/inflaton/code/projects/cs712/data/checkpoints/checkpoint-008.pth\n",
                        "results saved to: data/result.zip\n",
                        "#Difference : 413\n",
                        "checkpoint:  9 highest_cp 19\n",
                        "loaded checkpoint: /home/inflaton/code/projects/cs712/data/checkpoints/checkpoint-009.pth\n",
                        "results saved to: data/result.zip\n",
                        "#Difference : 397\n",
                        "checkpoint:  10 highest_cp 19\n",
                        "loaded checkpoint: /home/inflaton/code/projects/cs712/data/checkpoints/checkpoint-010.pth\n",
                        "results saved to: data/result.zip\n",
                        "#Difference : 396\n",
                        "checkpoint:  11 highest_cp 19\n",
                        "loaded checkpoint: /home/inflaton/code/projects/cs712/data/checkpoints/checkpoint-011.pth\n",
                        "results saved to: data/result.zip\n",
                        "#Difference : 397\n",
                        "checkpoint:  12 highest_cp 19\n",
                        "loaded checkpoint: /home/inflaton/code/projects/cs712/data/checkpoints/checkpoint-012.pth\n",
                        "results saved to: data/result.zip\n",
                        "#Difference : 395\n",
                        "checkpoint:  13 highest_cp 19\n",
                        "loaded checkpoint: /home/inflaton/code/projects/cs712/data/checkpoints/checkpoint-013.pth\n",
                        "results saved to: data/result.zip\n",
                        "#Difference : 396\n",
                        "checkpoint:  14 highest_cp 19\n",
                        "loaded checkpoint: /home/inflaton/code/projects/cs712/data/checkpoints/checkpoint-014.pth\n",
                        "results saved to: data/result.zip\n",
                        "#Difference : 400\n",
                        "checkpoint:  15 highest_cp 19\n",
                        "loaded checkpoint: /home/inflaton/code/projects/cs712/data/checkpoints/checkpoint-015.pth\n",
                        "results saved to: data/result.zip\n",
                        "#Difference : 395\n",
                        "checkpoint:  16 highest_cp 19\n",
                        "loaded checkpoint: /home/inflaton/code/projects/cs712/data/checkpoints/checkpoint-016.pth\n",
                        "results saved to: data/result.zip\n",
                        "#Difference : 398\n",
                        "checkpoint:  17 highest_cp 19\n",
                        "loaded checkpoint: /home/inflaton/code/projects/cs712/data/checkpoints/checkpoint-017.pth\n",
                        "results saved to: data/result.zip\n",
                        "#Difference : 401\n",
                        "checkpoint:  18 highest_cp 19\n",
                        "loaded checkpoint: /home/inflaton/code/projects/cs712/data/checkpoints/checkpoint-018.pth\n",
                        "results saved to: data/result.zip\n",
                        "#Difference : 405\n",
                        "checkpoint:  19 highest_cp 19\n",
                        "loaded checkpoint: /home/inflaton/code/projects/cs712/data/checkpoints/checkpoint-019.pth\n",
                        "results saved to: data/result.zip\n",
                        "#Difference : 403\n"
                    ]
                }
            ],
            "source": [
                "from validate import *\n",
                "\n",
                "save_path = os.path.join(os.getcwd(), \"data\", \"checkpoints/\")\n",
                "\n",
                "highest_cp = -1\n",
                "for _, _, files in os.walk(save_path):\n",
                "    for filename in files:\n",
                "        cp = int(re.split(\"[-.]\", filename)[-2])\n",
                "        if cp > highest_cp:\n",
                "            highest_cp = cp\n",
                "\n",
                "num_classes = 50\n",
                "batch_size = 64\n",
                "print(\"num_classes: \", num_classes, \"batch_size\", batch_size)\n",
                "\n",
                "# Create the model\n",
                "# model = JigsawModel(n_classes=num_classes).to(device)\n",
                "model = JigsawNet(n_classes=num_classes).to(device)\n",
                "\n",
                "validation_data = np.load(f\"data/preprocessed_validation.npy\")\n",
                "validation_data = torch.from_numpy(validation_data).float()\n",
                "\n",
                "validation_dataset = JigsawValidationDataset(validation_data)\n",
                "validation_loader = DataLoader(validation_dataset, batch_size=batch_size, shuffle=False)\n",
                "\n",
                "checkpoint = 6\n",
                "list_b = np.loadtxt(f\"logs/validation.txt\")\n",
                "\n",
                "while checkpoint <= highest_cp:\n",
                "    print(\"checkpoint: \", checkpoint, \"highest_cp\", highest_cp)\n",
                "\n",
                "    reset_random_generators()\n",
                "    evaluate_model(model, validation_loader, checkpoint=checkpoint)\n",
                "\n",
                "    list_a = np.loadtxt(f\"data/validation.txt\")\n",
                "\n",
                "    diff = {}\n",
                "    for i in range(len(list_b)):\n",
                "        if list_a[i] != list_b[i]:\n",
                "            # print(f\"found difference: {i}\")\n",
                "            diff[i] = (list_a[i], list_b[i])\n",
                "\n",
                "    print(\"#Difference :\", len(diff))\n",
                "\n",
                "    if len(diff) == 0:\n",
                "        break\n",
                "\n",
                "    checkpoint += 1"
            ]
        }
    ],
    "metadata": {
        "accelerator": "GPU",
        "colab": {
            "gpuType": "T4",
            "provenance": []
        },
        "kernelspec": {
            "display_name": "Python 3",
            "name": "python3"
        },
        "language_info": {
            "codemirror_mode": {
                "name": "ipython",
                "version": 3
            },
            "file_extension": ".py",
            "mimetype": "text/x-python",
            "name": "python",
            "nbconvert_exporter": "python",
            "pygments_lexer": "ipython3",
            "version": "3.11.5"
        }
    },
    "nbformat": 4,
    "nbformat_minor": 0
}
